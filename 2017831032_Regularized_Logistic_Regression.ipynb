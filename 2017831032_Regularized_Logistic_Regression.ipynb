{
  "nbformat": 4,
  "nbformat_minor": 0,
  "metadata": {
    "colab": {
      "provenance": [],
      "collapsed_sections": [],
      "include_colab_link": true
    },
    "kernelspec": {
      "name": "python3",
      "display_name": "Python 3"
    },
    "language_info": {
      "name": "python"
    }
  },
  "cells": [
    {
      "cell_type": "markdown",
      "metadata": {
        "id": "view-in-github",
        "colab_type": "text"
      },
      "source": [
        "<a href=\"https://colab.research.google.com/github/Abdullahfoysal/Regularized_Logistic_Regression/blob/main/2017831032_Regularized_Logistic_Regression.ipynb\" target=\"_parent\"><img src=\"https://colab.research.google.com/assets/colab-badge.svg\" alt=\"Open In Colab\"/></a>"
      ]
    },
    {
      "cell_type": "code",
      "execution_count": 1,
      "metadata": {
        "id": "m3o7BL59ld1h"
      },
      "outputs": [],
      "source": [
        "import pandas as pd\n",
        "import matplotlib.pyplot as plt\n",
        "import csv\n",
        "import numpy as np\n",
        "import seaborn as sns"
      ]
    },
    {
      "cell_type": "code",
      "source": [
        "url = 'https://raw.githubusercontent.com/Abdullahfoysal/Regularized_Logistic_Regression/main/dataset.txt'\n",
        "data = pd.read_csv(url, header=None, names = [\"x1\",\"x2\",\"y\"])\n",
        "data.head()"
      ],
      "metadata": {
        "id": "-pq05jRTmEi7"
      },
      "execution_count": null,
      "outputs": []
    },
    {
      "cell_type": "code",
      "source": [
        "def plotDataSet(data, label_x, label_y, label_pos, label_neg, axes=None):\n",
        "  \n",
        "    neg = data['y'] == 0\n",
        "    pos = data['y'] == 1\n",
        "    \n",
        "    if axes == None:\n",
        "        axes = plt.gca()\n",
        "    axes.scatter(data[pos]['x1'], data[pos]['x2'], marker='+', c='orange', s=60, linewidth=2, label=label_pos)\n",
        "    axes.scatter(data[neg]['x1'], data[neg]['x2'], c='blue', s=60, label=label_neg)\n",
        "    axes.set_xlabel(label_x)\n",
        "    axes.set_ylabel(label_y)\n",
        "    axes.legend(frameon= True, fancybox = True);"
      ],
      "metadata": {
        "id": "IOa1mghnmako"
      },
      "execution_count": 5,
      "outputs": []
    },
    {
      "cell_type": "code",
      "source": [
        "plotDataSet(data, 'Microchip_Test 1', 'Microchip_Test 2', 'y = 1', 'y = 0')"
      ],
      "metadata": {
        "colab": {
          "base_uri": "https://localhost:8080/",
          "height": 280
        },
        "id": "FJNkudnlmkeP",
        "outputId": "5ae6833e-4e2f-4e2e-abbe-4a97183d6e7d"
      },
      "execution_count": 6,
      "outputs": [
        {
          "output_type": "display_data",
          "data": {
            "text/plain": [
              "<Figure size 432x288 with 1 Axes>"
            ],
            "image/png": "[encoded data removed]"
          },
          "metadata": {
            "needs_background": "light"
          }
        }
      ]
    },
    {
      "cell_type": "code",
      "source": [
        "n = data.shape[1]-1\n",
        "x = data[data.columns[0:n]]\n",
        "\n",
        "y = data[data.columns[n:n+1]]\n",
        "# convert to np.array\n",
        "X = x.values\n",
        "y = y.values\n",
        "X\n"
      ],
      "metadata": {
        "colab": {
          "base_uri": "https://localhost:8080/"
        },
        "id": "smAm6vgQmrNU",
        "outputId": "a5a326f3-5ae2-4159-8dcf-b3a17d9f8acd"
      },
      "execution_count": 8,
      "outputs": [
        {
          "output_type": "execute_result",
          "data": {
            "text/plain": [
              "array([[ 0.051267 ,  0.69956  ],\n",
              "       [-0.092742 ,  0.68494  ],\n",
              "       [-0.21371  ,  0.69225  ],\n",
              "       [-0.375    ,  0.50219  ],\n",
              "       [-0.51325  ,  0.46564  ],\n",
              "       [-0.52477  ,  0.2098   ],\n",
              "       [-0.39804  ,  0.034357 ],\n",
              "       [-0.30588  , -0.19225  ],\n",
              "       [ 0.016705 , -0.40424  ],\n",
              "       [ 0.13191  , -0.51389  ],\n",
              "       [ 0.38537  , -0.56506  ],\n",
              "       [ 0.52938  , -0.5212   ],\n",
              "       [ 0.63882  , -0.24342  ],\n",
              "       [ 0.73675  , -0.18494  ],\n",
              "       [ 0.54666  ,  0.48757  ],\n",
              "       [ 0.322    ,  0.5826   ],\n",
              "       [ 0.16647  ,  0.53874  ],\n",
              "       [-0.046659 ,  0.81652  ],\n",
              "       [-0.17339  ,  0.69956  ],\n",
              "       [-0.47869  ,  0.63377  ],\n",
              "       [-0.60541  ,  0.59722  ],\n",
              "       [-0.62846  ,  0.33406  ],\n",
              "       [-0.59389  ,  0.005117 ],\n",
              "       [-0.42108  , -0.27266  ],\n",
              "       [-0.11578  , -0.39693  ],\n",
              "       [ 0.20104  , -0.60161  ],\n",
              "       [ 0.46601  , -0.53582  ],\n",
              "       [ 0.67339  , -0.53582  ],\n",
              "       [-0.13882  ,  0.54605  ],\n",
              "       [-0.29435  ,  0.77997  ],\n",
              "       [-0.26555  ,  0.96272  ],\n",
              "       [-0.16187  ,  0.8019   ],\n",
              "       [-0.17339  ,  0.64839  ],\n",
              "       [-0.28283  ,  0.47295  ],\n",
              "       [-0.36348  ,  0.31213  ],\n",
              "       [-0.30012  ,  0.027047 ],\n",
              "       [-0.23675  , -0.21418  ],\n",
              "       [-0.06394  , -0.18494  ],\n",
              "       [ 0.062788 , -0.16301  ],\n",
              "       [ 0.22984  , -0.41155  ],\n",
              "       [ 0.2932   , -0.2288   ],\n",
              "       [ 0.48329  , -0.18494  ],\n",
              "       [ 0.64459  , -0.14108  ],\n",
              "       [ 0.46025  ,  0.012427 ],\n",
              "       [ 0.6273   ,  0.15863  ],\n",
              "       [ 0.57546  ,  0.26827  ],\n",
              "       [ 0.72523  ,  0.44371  ],\n",
              "       [ 0.22408  ,  0.52412  ],\n",
              "       [ 0.44297  ,  0.67032  ],\n",
              "       [ 0.322    ,  0.69225  ],\n",
              "       [ 0.13767  ,  0.57529  ],\n",
              "       [-0.0063364,  0.39985  ],\n",
              "       [-0.092742 ,  0.55336  ],\n",
              "       [-0.20795  ,  0.35599  ],\n",
              "       [-0.20795  ,  0.17325  ],\n",
              "       [-0.43836  ,  0.21711  ],\n",
              "       [-0.21947  , -0.016813 ],\n",
              "       [-0.13882  , -0.27266  ],\n",
              "       [ 0.18376  ,  0.93348  ],\n",
              "       [ 0.22408  ,  0.77997  ],\n",
              "       [ 0.29896  ,  0.61915  ],\n",
              "       [ 0.50634  ,  0.75804  ],\n",
              "       [ 0.61578  ,  0.7288   ],\n",
              "       [ 0.60426  ,  0.59722  ],\n",
              "       [ 0.76555  ,  0.50219  ],\n",
              "       [ 0.92684  ,  0.3633   ],\n",
              "       [ 0.82316  ,  0.27558  ],\n",
              "       [ 0.96141  ,  0.085526 ],\n",
              "       [ 0.93836  ,  0.012427 ],\n",
              "       [ 0.86348  , -0.082602 ],\n",
              "       [ 0.89804  , -0.20687  ],\n",
              "       [ 0.85196  , -0.36769  ],\n",
              "       [ 0.82892  , -0.5212   ],\n",
              "       [ 0.79435  , -0.55775  ],\n",
              "       [ 0.59274  , -0.7405   ],\n",
              "       [ 0.51786  , -0.5943   ],\n",
              "       [ 0.46601  , -0.41886  ],\n",
              "       [ 0.35081  , -0.57968  ],\n",
              "       [ 0.28744  , -0.76974  ],\n",
              "       [ 0.085829 , -0.75512  ],\n",
              "       [ 0.14919  , -0.57968  ],\n",
              "       [-0.13306  , -0.4481   ],\n",
              "       [-0.40956  , -0.41155  ],\n",
              "       [-0.39228  , -0.25804  ],\n",
              "       [-0.74366  , -0.25804  ],\n",
              "       [-0.69758  ,  0.041667 ],\n",
              "       [-0.75518  ,  0.2902   ],\n",
              "       [-0.69758  ,  0.68494  ],\n",
              "       [-0.4038   ,  0.70687  ],\n",
              "       [-0.38076  ,  0.91886  ],\n",
              "       [-0.50749  ,  0.90424  ],\n",
              "       [-0.54781  ,  0.70687  ],\n",
              "       [ 0.10311  ,  0.77997  ],\n",
              "       [ 0.057028 ,  0.91886  ],\n",
              "       [-0.10426  ,  0.99196  ],\n",
              "       [-0.081221 ,  1.1089   ],\n",
              "       [ 0.28744  ,  1.087    ],\n",
              "       [ 0.39689  ,  0.82383  ],\n",
              "       [ 0.63882  ,  0.88962  ],\n",
              "       [ 0.82316  ,  0.66301  ],\n",
              "       [ 0.67339  ,  0.64108  ],\n",
              "       [ 1.0709   ,  0.10015  ],\n",
              "       [-0.046659 , -0.57968  ],\n",
              "       [-0.23675  , -0.63816  ],\n",
              "       [-0.15035  , -0.36769  ],\n",
              "       [-0.49021  , -0.3019   ],\n",
              "       [-0.46717  , -0.13377  ],\n",
              "       [-0.28859  , -0.060673 ],\n",
              "       [-0.61118  , -0.067982 ],\n",
              "       [-0.66302  , -0.21418  ],\n",
              "       [-0.59965  , -0.41886  ],\n",
              "       [-0.72638  , -0.082602 ],\n",
              "       [-0.83007  ,  0.31213  ],\n",
              "       [-0.72062  ,  0.53874  ],\n",
              "       [-0.59389  ,  0.49488  ],\n",
              "       [-0.48445  ,  0.99927  ],\n",
              "       [-0.0063364,  0.99927  ],\n",
              "       [ 0.63265  , -0.030612 ]])"
            ]
          },
          "metadata": {},
          "execution_count": 8
        }
      ]
    },
    {
      "cell_type": "code",
      "source": [
        "def extractMapFeature( x1col, x2col):\n",
        "    degrees = 10\n",
        "    out = np.ones( (x1col.shape[0], 1) )\n",
        "\n",
        "    for i in range(1, degrees+1):\n",
        "      for j in range(0, i+1):\n",
        "        term1 = x1col ** (i-j)\n",
        "        term2 = x2col ** (j)\n",
        "        term  = (term1 * term2).reshape( term1.shape[0], 1 ) \n",
        "        out   = np.hstack(( out, term ))\n",
        "        \n",
        "    return out"
      ],
      "metadata": {
        "id": "vCZFhTbgmxKv"
      },
      "execution_count": 9,
      "outputs": []
    },
    {
      "cell_type": "code",
      "source": [
        "XX = extractMapFeature(X[:,0],X[:,1])\n",
        "print(X.shape, XX.shape)\n",
        "XX"
      ],
      "metadata": {
        "colab": {
          "base_uri": "https://localhost:8080/"
        },
        "id": "3h_Rxp9Rm5BT",
        "outputId": "23b22d8b-8c51-48b1-9b0d-9bef98c0e403"
      },
      "execution_count": 10,
      "outputs": [
        {
          "output_type": "stream",
          "name": "stdout",
          "text": [
            "(118, 2) (118, 66)\n"
          ]
        },
        {
          "output_type": "execute_result",
          "data": {
            "text/plain": [
              "array([[ 1.00000000e+00,  5.12670000e-02,  6.99560000e-01, ...,\n",
              "         1.50756332e-04,  2.05713421e-03,  2.80704704e-02],\n",
              "       [ 1.00000000e+00, -9.27420000e-02,  6.84940000e-01, ...,\n",
              "         4.16651692e-04, -3.07715393e-03,  2.27261199e-02],\n",
              "       [ 1.00000000e+00, -2.13710000e-01,  6.92250000e-01, ...,\n",
              "         2.40853745e-03, -7.80174092e-03,  2.52714199e-02],\n",
              "       ...,\n",
              "       [ 1.00000000e+00, -4.84450000e-01,  9.99270000e-01, ...,\n",
              "         2.33324699e-01, -4.81276442e-01,  9.92723934e-01],\n",
              "       [ 1.00000000e+00, -6.33640000e-03,  9.99270000e-01, ...,\n",
              "         3.99160874e-05, -6.29489121e-03,  9.92723934e-01],\n",
              "       [ 1.00000000e+00,  6.32650000e-01, -3.06120000e-02, ...,\n",
              "         3.08646006e-13, -1.49344370e-14,  7.22631762e-16]])"
            ]
          },
          "metadata": {},
          "execution_count": 10
        }
      ]
    },
    {
      "cell_type": "code",
      "source": [
        "from scipy.special import expit #Vectorized sigmoid function\n",
        "\n",
        "#Hypothesis function and cost function for logistic regression\n",
        "def hypothesisFunction(mytheta,myX): #Logistic hypothesis function\n",
        "    return expit(np.dot(myX,mytheta))"
      ],
      "metadata": {
        "id": "xqRyRHuQnGxq"
      },
      "execution_count": 11,
      "outputs": []
    },
    {
      "cell_type": "code",
      "source": [
        "#Cost function, default lambda (regularization) 0\n",
        "def computeCost(mytheta,myX,myy,mylambda = 0.): \n",
        "\n",
        "    m = myy.size # number of training examples\n",
        "\n",
        "    term1 = np.dot(-np.array(myy).T,np.log(hypothesisFunction(mytheta,myX)))\n",
        "    term2 = np.dot((1-np.array(myy)).T,np.log(1-hypothesisFunction(mytheta,myX)))\n",
        "    regterm = (mylambda/2) * np.sum(np.dot(mytheta[1:].T,mytheta[1:])) #Skip theta0\n",
        "    return float( (1./m) * ( np.sum(term1 - term2) + regterm ) )\n"
      ],
      "metadata": {
        "id": "3B_qZ4p0nJdN"
      },
      "execution_count": 17,
      "outputs": []
    },
    {
      "cell_type": "code",
      "source": [
        "def sigmoidFunction(z):\n",
        "    z = np.clip( z, -500, 500 )           # protect against overflow\n",
        "    g = 1.0/(1.0+np.exp(-z))\n",
        "    return g"
      ],
      "metadata": {
        "id": "J13soAd8nNbV"
      },
      "execution_count": 14,
      "outputs": []
    },
    {
      "cell_type": "code",
      "source": [
        "def compute_gradient_logistic(X, y, w):\n",
        "  m,n = X.shape\n",
        "  # print(m,n)\n",
        "  dj_dw = np.zeros((n,))\n",
        "\n",
        "  for i in range(m):\n",
        "    f_wb_i = sigmoidFunction(np.dot(X[i], w))                           #(n,)(n,)=scalar\n",
        "    err_i  = f_wb_i  - y[i]                       #scalar\n",
        "    for j in range(n):\n",
        "      dj_dw[j] = dj_dw[j] + err_i * X[i,j]        #scalar\n",
        "  dj_dw = dj_dw/m                                   #(n,)\n",
        "      \n",
        "  return dj_dw"
      ],
      "metadata": {
        "id": "shIm_D0DnR84"
      },
      "execution_count": 15,
      "outputs": []
    },
    {
      "cell_type": "code",
      "source": [
        "# from scipy import optimize\n",
        "import copy\n",
        "import math\n",
        "initial_theta = np.zeros(XX.shape[1])\n",
        "print(initial_theta.shape)\n",
        "\n",
        "# def optimizeRegularizedTheta(mytheta,myX,myy,mylambda=0.):\n",
        "#     result = optimize.minimize(computeCost, mytheta, args=(myX, myy, mylambda),  method='BFGS', options={\"maxiter\":500, \"disp\":False} )\n",
        "#     return np.array([result.x]), result.fun\n",
        "\n",
        "def optimizeRegularizedTheta(mytheta, myX, myy, alpha, num_iters, mylambda=0.):\n",
        "  m = myX.shape[0]\n",
        "  J_history = []\n",
        "  w = copy.deepcopy(mytheta)\n",
        "\n",
        "  for i in range(num_iters):\n",
        "    # Calculate the gradient and update the parameters\n",
        "    dj_dw = compute_gradient_logistic(myX, myy, w)   \n",
        "\n",
        "    # Update Parameters using w, b, alpha and gradient\n",
        "    w = w*(1-alpha*(mylambda/m)) - alpha * dj_dw              \n",
        "  \n",
        "    # Save cost J at each iteration\n",
        "    if i<100000:      # prevent resource exhaustion \n",
        "        J_history.append( computeCost(w, myX, myy, mylambda) )\n",
        "\n",
        "    # Print cost every at intervals 10 times or as many iterations if < 10\n",
        "    if i% math.ceil(num_iters / 10) == 0:\n",
        "        print(f\"Iteration {i:4d}: Cost {J_history[-1]}   \")\n",
        "  return w, min(J_history)\n",
        "    \n",
        "theta, mincost = optimizeRegularizedTheta(initial_theta,XX,y, 0.1, 100)\n",
        "print(theta.shape)\n",
        "print(mincost)"
      ],
      "metadata": {
        "colab": {
          "base_uri": "https://localhost:8080/"
        },
        "id": "vNKKo72TnVWb",
        "outputId": "b2c29bcf-7148-4639-907e-eedaa2bd7208"
      },
      "execution_count": 18,
      "outputs": [
        {
          "output_type": "stream",
          "name": "stdout",
          "text": [
            "(66,)\n",
            "Iteration    0: Cost 0.691100342525338   \n",
            "Iteration   10: Cost 0.6745247304834239   \n",
            "Iteration   20: Cost 0.662429140756798   \n",
            "Iteration   30: Cost 0.6527223265301214   \n",
            "Iteration   40: Cost 0.6444403143538936   \n",
            "Iteration   50: Cost 0.6371093503528475   \n",
            "Iteration   60: Cost 0.6304730545334474   \n",
            "Iteration   70: Cost 0.6243774784919752   \n",
            "Iteration   80: Cost 0.6187210453052703   \n",
            "Iteration   90: Cost 0.6134315346366914   \n",
            "(66,)\n",
            "0.6089396397803091\n"
          ]
        }
      ]
    },
    {
      "cell_type": "code",
      "source": [
        "def plotBoundary(mytheta, myX, myy, mylambda=0.):\n",
        "    \"\"\"\n",
        "    Function to plot the decision boundary for arbitrary theta, X, y, lambda value\n",
        "    Inside of this function is feature mapping, and the minimization routine.\n",
        "    It works by making a grid of x1 (\"xvals\") and x2 (\"yvals\") points,\n",
        "    And for each, computing whether the hypothesis classifies that point as\n",
        "    True or False. Then, a contour is drawn with a built-in pyplot function.\n",
        "    \"\"\"\n",
        "    alpha = .1\n",
        "    iters = 1000\n",
        "\n",
        "    theta, mincost = optimizeRegularizedTheta(mytheta, myX, myy, alpha, iters, mylambda)\n",
        "    print(theta, '\\n\\nCost : ', mincost, '\\n \\n ')\n",
        "    xvals = np.linspace(-1,1.5,50)\n",
        "    yvals = np.linspace(-1,1.5,50)\n",
        "    zvals = np.zeros((len(xvals),len(yvals)))\n",
        "    for i in range(len(xvals)):\n",
        "        for j in range(len(yvals)):\n",
        "            myfeaturesij = extractMapFeature(np.array([xvals[i]]),np.array([yvals[j]]))\n",
        "            zvals[i][j] = np.dot(theta,myfeaturesij.T)\n",
        "            # print(type(zvals), zvals.shape)\n",
        "    zvals = zvals.transpose()\n",
        "\n",
        "    u, v = np.meshgrid( xvals, yvals )\n",
        "    mycontour = plt.contour( xvals, yvals, zvals, [0])\n",
        "    #Kind of a hacky way to display a text on top of the decision boundary\n",
        "    myfmt = { 0:'Lambda = %d'%mylambda}\n",
        "    plt.clabel(mycontour, inline=1, fontsize=15, fmt=myfmt)\n",
        "    plt.title(\"Decision Boundary\")"
      ],
      "metadata": {
        "id": "JVNVPJhInbhs"
      },
      "execution_count": 19,
      "outputs": []
    },
    {
      "cell_type": "code",
      "source": [
        "plt.figure(figsize=(12,10))\n",
        "plt.subplot(221)\n",
        "plotDataSet(data, 'Microchip Test 1', 'Microchip Test 2', 'y = 1', 'y = 0')\n",
        "plotBoundary(initial_theta, XX, y, 0.)\n",
        "\n",
        "plt.subplot(222)\n",
        "plotDataSet(data, 'Microchip Test 1', 'Microchip Test 2', 'y = 1', 'y = 0')\n",
        "plotBoundary(initial_theta,XX,y,1.)\n",
        "\n",
        "plt.subplot(223)\n",
        "plotDataSet(data, 'Microchip Test 1', 'Microchip Test 2', 'y = 1', 'y = 0')\n",
        "plotBoundary(initial_theta,XX,y,10.)\n",
        "\n",
        "plt.subplot(224)\n",
        "plotDataSet(data, 'Microchip Test 1', 'Microchip Test 2', 'y = 1', 'y = 0')\n",
        "plotBoundary(initial_theta,XX,y,50.)"
      ],
      "metadata": {
        "colab": {
          "base_uri": "https://localhost:8080/",
          "height": 735
        },
        "id": "9gjc7IV6nhRY",
        "outputId": "f67c2104-e7f8-491b-ef30-f51ab4cd3c70"
      },
      "execution_count": 21,
      "outputs": [
        {
          "output_type": "stream",
          "name": "stdout",
          "text": [
            "Iteration    0: Cost 0.691100342525338   \n",
            "Iteration  100: Cost 0.6084547570625648   \n",
            "Iteration  200: Cost 0.5695610710258278   \n",
            "Iteration  300: Cost 0.5416710089367659   \n"
          ]
        },
        {
          "output_type": "error",
          "ename": "KeyboardInterrupt",
          "evalue": "ignored",
          "traceback": [
            "\u001b[0;31m---------------------------------------------------------------------------\u001b[0m",
            "\u001b[0;31mKeyboardInterrupt\u001b[0m                         Traceback (most recent call last)",
            "\u001b[0;32m<ipython-input-21-011b6285d50d>\u001b[0m in \u001b[0;36m<module>\u001b[0;34m\u001b[0m\n\u001b[1;32m      2\u001b[0m \u001b[0mplt\u001b[0m\u001b[0;34m.\u001b[0m\u001b[0msubplot\u001b[0m\u001b[0;34m(\u001b[0m\u001b[0;36m221\u001b[0m\u001b[0;34m)\u001b[0m\u001b[0;34m\u001b[0m\u001b[0;34m\u001b[0m\u001b[0m\n\u001b[1;32m      3\u001b[0m \u001b[0mplotDataSet\u001b[0m\u001b[0;34m(\u001b[0m\u001b[0mdata\u001b[0m\u001b[0;34m,\u001b[0m \u001b[0;34m'Microchip Test 1'\u001b[0m\u001b[0;34m,\u001b[0m \u001b[0;34m'Microchip Test 2'\u001b[0m\u001b[0;34m,\u001b[0m \u001b[0;34m'y = 1'\u001b[0m\u001b[0;34m,\u001b[0m \u001b[0;34m'y = 0'\u001b[0m\u001b[0;34m)\u001b[0m\u001b[0;34m\u001b[0m\u001b[0;34m\u001b[0m\u001b[0m\n\u001b[0;32m----> 4\u001b[0;31m \u001b[0mplotBoundary\u001b[0m\u001b[0;34m(\u001b[0m\u001b[0minitial_theta\u001b[0m\u001b[0;34m,\u001b[0m \u001b[0mXX\u001b[0m\u001b[0;34m,\u001b[0m \u001b[0my\u001b[0m\u001b[0;34m,\u001b[0m \u001b[0;36m0.\u001b[0m\u001b[0;34m)\u001b[0m\u001b[0;34m\u001b[0m\u001b[0;34m\u001b[0m\u001b[0m\n\u001b[0m\u001b[1;32m      5\u001b[0m \u001b[0;34m\u001b[0m\u001b[0m\n\u001b[1;32m      6\u001b[0m \u001b[0mplt\u001b[0m\u001b[0;34m.\u001b[0m\u001b[0msubplot\u001b[0m\u001b[0;34m(\u001b[0m\u001b[0;36m222\u001b[0m\u001b[0;34m)\u001b[0m\u001b[0;34m\u001b[0m\u001b[0;34m\u001b[0m\u001b[0m\n",
            "\u001b[0;32m<ipython-input-19-d2968aac4c5e>\u001b[0m in \u001b[0;36mplotBoundary\u001b[0;34m(mytheta, myX, myy, mylambda)\u001b[0m\n\u001b[1;32m     10\u001b[0m     \u001b[0miters\u001b[0m \u001b[0;34m=\u001b[0m \u001b[0;36m1000\u001b[0m\u001b[0;34m\u001b[0m\u001b[0;34m\u001b[0m\u001b[0m\n\u001b[1;32m     11\u001b[0m \u001b[0;34m\u001b[0m\u001b[0m\n\u001b[0;32m---> 12\u001b[0;31m     \u001b[0mtheta\u001b[0m\u001b[0;34m,\u001b[0m \u001b[0mmincost\u001b[0m \u001b[0;34m=\u001b[0m \u001b[0moptimizeRegularizedTheta\u001b[0m\u001b[0;34m(\u001b[0m\u001b[0mmytheta\u001b[0m\u001b[0;34m,\u001b[0m \u001b[0mmyX\u001b[0m\u001b[0;34m,\u001b[0m \u001b[0mmyy\u001b[0m\u001b[0;34m,\u001b[0m \u001b[0malpha\u001b[0m\u001b[0;34m,\u001b[0m \u001b[0miters\u001b[0m\u001b[0;34m,\u001b[0m \u001b[0mmylambda\u001b[0m\u001b[0;34m)\u001b[0m\u001b[0;34m\u001b[0m\u001b[0;34m\u001b[0m\u001b[0m\n\u001b[0m\u001b[1;32m     13\u001b[0m     \u001b[0mprint\u001b[0m\u001b[0;34m(\u001b[0m\u001b[0mtheta\u001b[0m\u001b[0;34m,\u001b[0m \u001b[0;34m'\\n\\nCost : '\u001b[0m\u001b[0;34m,\u001b[0m \u001b[0mmincost\u001b[0m\u001b[0;34m,\u001b[0m \u001b[0;34m'\\n \\n '\u001b[0m\u001b[0;34m)\u001b[0m\u001b[0;34m\u001b[0m\u001b[0;34m\u001b[0m\u001b[0m\n\u001b[1;32m     14\u001b[0m     \u001b[0mxvals\u001b[0m \u001b[0;34m=\u001b[0m \u001b[0mnp\u001b[0m\u001b[0;34m.\u001b[0m\u001b[0mlinspace\u001b[0m\u001b[0;34m(\u001b[0m\u001b[0;34m-\u001b[0m\u001b[0;36m1\u001b[0m\u001b[0;34m,\u001b[0m\u001b[0;36m1.5\u001b[0m\u001b[0;34m,\u001b[0m\u001b[0;36m50\u001b[0m\u001b[0;34m)\u001b[0m\u001b[0;34m\u001b[0m\u001b[0;34m\u001b[0m\u001b[0m\n",
            "\u001b[0;32m<ipython-input-18-79fe1e2ccb6e>\u001b[0m in \u001b[0;36moptimizeRegularizedTheta\u001b[0;34m(mytheta, myX, myy, alpha, num_iters, mylambda)\u001b[0m\n\u001b[1;32m     16\u001b[0m   \u001b[0;32mfor\u001b[0m \u001b[0mi\u001b[0m \u001b[0;32min\u001b[0m \u001b[0mrange\u001b[0m\u001b[0;34m(\u001b[0m\u001b[0mnum_iters\u001b[0m\u001b[0;34m)\u001b[0m\u001b[0;34m:\u001b[0m\u001b[0;34m\u001b[0m\u001b[0;34m\u001b[0m\u001b[0m\n\u001b[1;32m     17\u001b[0m     \u001b[0;31m# Calculate the gradient and update the parameters\u001b[0m\u001b[0;34m\u001b[0m\u001b[0;34m\u001b[0m\u001b[0;34m\u001b[0m\u001b[0m\n\u001b[0;32m---> 18\u001b[0;31m     \u001b[0mdj_dw\u001b[0m \u001b[0;34m=\u001b[0m \u001b[0mcompute_gradient_logistic\u001b[0m\u001b[0;34m(\u001b[0m\u001b[0mmyX\u001b[0m\u001b[0;34m,\u001b[0m \u001b[0mmyy\u001b[0m\u001b[0;34m,\u001b[0m \u001b[0mw\u001b[0m\u001b[0;34m)\u001b[0m\u001b[0;34m\u001b[0m\u001b[0;34m\u001b[0m\u001b[0m\n\u001b[0m\u001b[1;32m     19\u001b[0m \u001b[0;34m\u001b[0m\u001b[0m\n\u001b[1;32m     20\u001b[0m     \u001b[0;31m# Update Parameters using w, b, alpha and gradient\u001b[0m\u001b[0;34m\u001b[0m\u001b[0;34m\u001b[0m\u001b[0;34m\u001b[0m\u001b[0m\n",
            "\u001b[0;32m<ipython-input-15-849d30d68258>\u001b[0m in \u001b[0;36mcompute_gradient_logistic\u001b[0;34m(X, y, w)\u001b[0m\n\u001b[1;32m      8\u001b[0m     \u001b[0merr_i\u001b[0m  \u001b[0;34m=\u001b[0m \u001b[0mf_wb_i\u001b[0m  \u001b[0;34m-\u001b[0m \u001b[0my\u001b[0m\u001b[0;34m[\u001b[0m\u001b[0mi\u001b[0m\u001b[0;34m]\u001b[0m                       \u001b[0;31m#scalar\u001b[0m\u001b[0;34m\u001b[0m\u001b[0;34m\u001b[0m\u001b[0m\n\u001b[1;32m      9\u001b[0m     \u001b[0;32mfor\u001b[0m \u001b[0mj\u001b[0m \u001b[0;32min\u001b[0m \u001b[0mrange\u001b[0m\u001b[0;34m(\u001b[0m\u001b[0mn\u001b[0m\u001b[0;34m)\u001b[0m\u001b[0;34m:\u001b[0m\u001b[0;34m\u001b[0m\u001b[0;34m\u001b[0m\u001b[0m\n\u001b[0;32m---> 10\u001b[0;31m       \u001b[0mdj_dw\u001b[0m\u001b[0;34m[\u001b[0m\u001b[0mj\u001b[0m\u001b[0;34m]\u001b[0m \u001b[0;34m=\u001b[0m \u001b[0mdj_dw\u001b[0m\u001b[0;34m[\u001b[0m\u001b[0mj\u001b[0m\u001b[0;34m]\u001b[0m \u001b[0;34m+\u001b[0m \u001b[0merr_i\u001b[0m \u001b[0;34m*\u001b[0m \u001b[0mX\u001b[0m\u001b[0;34m[\u001b[0m\u001b[0mi\u001b[0m\u001b[0;34m,\u001b[0m\u001b[0mj\u001b[0m\u001b[0;34m]\u001b[0m        \u001b[0;31m#scalar\u001b[0m\u001b[0;34m\u001b[0m\u001b[0;34m\u001b[0m\u001b[0m\n\u001b[0m\u001b[1;32m     11\u001b[0m   \u001b[0mdj_dw\u001b[0m \u001b[0;34m=\u001b[0m \u001b[0mdj_dw\u001b[0m\u001b[0;34m/\u001b[0m\u001b[0mm\u001b[0m                                   \u001b[0;31m#(n,)\u001b[0m\u001b[0;34m\u001b[0m\u001b[0;34m\u001b[0m\u001b[0m\n\u001b[1;32m     12\u001b[0m \u001b[0;34m\u001b[0m\u001b[0m\n",
            "\u001b[0;31mKeyboardInterrupt\u001b[0m: "
          ]
        },
        {
          "output_type": "display_data",
          "data": {
            "text/plain": [
              "<Figure size 864x720 with 1 Axes>"
            ],
            "image/png": "[encoded data removed]"
          },
          "metadata": {
            "needs_background": "light"
          }
        }
      ]
    }
  ]
}